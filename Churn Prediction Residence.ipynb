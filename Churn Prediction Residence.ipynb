{
 "cells": [
  {
   "cell_type": "code",
   "execution_count": 1,
   "id": "de3d2c82",
   "metadata": {
    "_cell_guid": "b1076dfc-b9ad-4769-8c92-a6c4dae69d19",
    "_uuid": "8f2839f25d086af736a60e9eeb907d3b93b6e0e5",
    "execution": {
     "iopub.execute_input": "2025-06-19T11:23:55.449321Z",
     "iopub.status.busy": "2025-06-19T11:23:55.449011Z",
     "iopub.status.idle": "2025-06-19T11:23:57.351991Z",
     "shell.execute_reply": "2025-06-19T11:23:57.351041Z"
    },
    "papermill": {
     "duration": 1.911615,
     "end_time": "2025-06-19T11:23:57.353781",
     "exception": false,
     "start_time": "2025-06-19T11:23:55.442166",
     "status": "completed"
    },
    "tags": []
   },
   "outputs": [
    {
     "name": "stdout",
     "output_type": "stream",
     "text": [
      "/kaggle/input/telco-customer-churn/WA_Fn-UseC_-Telco-Customer-Churn.csv\n"
     ]
    }
   ],
   "source": [
    "# This Python 3 environment comes with many helpful analytics libraries installed\n",
    "# It is defined by the kaggle/python Docker image: https://github.com/kaggle/docker-python\n",
    "# For example, here's several helpful packages to load\n",
    "\n",
    "import numpy as np # linear algebra\n",
    "import pandas as pd # data processing, CSV file I/O (e.g. pd.read_csv)\n",
    "\n",
    "# Input data files are available in the read-only \"../input/\" directory\n",
    "# For example, running this (by clicking run or pressing Shift+Enter) will list all files under the input directory\n",
    "\n",
    "import os\n",
    "for dirname, _, filenames in os.walk('/kaggle/input'):\n",
    "    for filename in filenames:\n",
    "        print(os.path.join(dirname, filename))\n",
    "\n",
    "# You can write up to 20GB to the current directory (/kaggle/working/) that gets preserved as output when you create a version using \"Save & Run All\" \n",
    "# You can also write temporary files to /kaggle/temp/, but they won't be saved outside of the current session"
   ]
  },
  {
   "cell_type": "code",
   "execution_count": 2,
   "id": "96aeb8a5",
   "metadata": {
    "execution": {
     "iopub.execute_input": "2025-06-19T11:23:57.365905Z",
     "iopub.status.busy": "2025-06-19T11:23:57.365341Z",
     "iopub.status.idle": "2025-06-19T11:24:00.069605Z",
     "shell.execute_reply": "2025-06-19T11:24:00.068784Z"
    },
    "papermill": {
     "duration": 2.712056,
     "end_time": "2025-06-19T11:24:00.071307",
     "exception": false,
     "start_time": "2025-06-19T11:23:57.359251",
     "status": "completed"
    },
    "tags": []
   },
   "outputs": [],
   "source": [
    "import matplotlib.pyplot as plt\n",
    "from sklearn.model_selection import train_test_split\n",
    "from sklearn.preprocessing import StandardScaler, LabelEncoder\n",
    "from sklearn.ensemble import RandomForestClassifier\n",
    "from sklearn.model_selection import train_test_split\n",
    "from sklearn.metrics import classification_report, confusion_matrix, accuracy_score\n",
    "import seaborn as sns\n"
   ]
  },
  {
   "cell_type": "code",
   "execution_count": 3,
   "id": "92ced0f4",
   "metadata": {
    "execution": {
     "iopub.execute_input": "2025-06-19T11:24:00.082522Z",
     "iopub.status.busy": "2025-06-19T11:24:00.082121Z",
     "iopub.status.idle": "2025-06-19T11:24:00.151692Z",
     "shell.execute_reply": "2025-06-19T11:24:00.150792Z"
    },
    "papermill": {
     "duration": 0.077136,
     "end_time": "2025-06-19T11:24:00.153419",
     "exception": false,
     "start_time": "2025-06-19T11:24:00.076283",
     "status": "completed"
    },
    "tags": []
   },
   "outputs": [],
   "source": [
    "df = pd.read_csv(\"../input/telco-customer-churn/WA_Fn-UseC_-Telco-Customer-Churn.csv\")"
   ]
  },
  {
   "cell_type": "code",
   "execution_count": 4,
   "id": "2d68bf14",
   "metadata": {
    "execution": {
     "iopub.execute_input": "2025-06-19T11:24:00.165327Z",
     "iopub.status.busy": "2025-06-19T11:24:00.164405Z",
     "iopub.status.idle": "2025-06-19T11:24:00.201741Z",
     "shell.execute_reply": "2025-06-19T11:24:00.200845Z"
    },
    "papermill": {
     "duration": 0.044802,
     "end_time": "2025-06-19T11:24:00.203303",
     "exception": false,
     "start_time": "2025-06-19T11:24:00.158501",
     "status": "completed"
    },
    "tags": []
   },
   "outputs": [
    {
     "data": {
      "text/html": [
       "<div>\n",
       "<style scoped>\n",
       "    .dataframe tbody tr th:only-of-type {\n",
       "        vertical-align: middle;\n",
       "    }\n",
       "\n",
       "    .dataframe tbody tr th {\n",
       "        vertical-align: top;\n",
       "    }\n",
       "\n",
       "    .dataframe thead th {\n",
       "        text-align: right;\n",
       "    }\n",
       "</style>\n",
       "<table border=\"1\" class=\"dataframe\">\n",
       "  <thead>\n",
       "    <tr style=\"text-align: right;\">\n",
       "      <th></th>\n",
       "      <th>customerID</th>\n",
       "      <th>gender</th>\n",
       "      <th>SeniorCitizen</th>\n",
       "      <th>Partner</th>\n",
       "      <th>Dependents</th>\n",
       "      <th>tenure</th>\n",
       "      <th>PhoneService</th>\n",
       "      <th>MultipleLines</th>\n",
       "      <th>InternetService</th>\n",
       "      <th>OnlineSecurity</th>\n",
       "      <th>...</th>\n",
       "      <th>DeviceProtection</th>\n",
       "      <th>TechSupport</th>\n",
       "      <th>StreamingTV</th>\n",
       "      <th>StreamingMovies</th>\n",
       "      <th>Contract</th>\n",
       "      <th>PaperlessBilling</th>\n",
       "      <th>PaymentMethod</th>\n",
       "      <th>MonthlyCharges</th>\n",
       "      <th>TotalCharges</th>\n",
       "      <th>Churn</th>\n",
       "    </tr>\n",
       "  </thead>\n",
       "  <tbody>\n",
       "    <tr>\n",
       "      <th>0</th>\n",
       "      <td>7590-VHVEG</td>\n",
       "      <td>Female</td>\n",
       "      <td>0</td>\n",
       "      <td>Yes</td>\n",
       "      <td>No</td>\n",
       "      <td>1</td>\n",
       "      <td>No</td>\n",
       "      <td>No phone service</td>\n",
       "      <td>DSL</td>\n",
       "      <td>No</td>\n",
       "      <td>...</td>\n",
       "      <td>No</td>\n",
       "      <td>No</td>\n",
       "      <td>No</td>\n",
       "      <td>No</td>\n",
       "      <td>Month-to-month</td>\n",
       "      <td>Yes</td>\n",
       "      <td>Electronic check</td>\n",
       "      <td>29.85</td>\n",
       "      <td>29.85</td>\n",
       "      <td>No</td>\n",
       "    </tr>\n",
       "    <tr>\n",
       "      <th>1</th>\n",
       "      <td>5575-GNVDE</td>\n",
       "      <td>Male</td>\n",
       "      <td>0</td>\n",
       "      <td>No</td>\n",
       "      <td>No</td>\n",
       "      <td>34</td>\n",
       "      <td>Yes</td>\n",
       "      <td>No</td>\n",
       "      <td>DSL</td>\n",
       "      <td>Yes</td>\n",
       "      <td>...</td>\n",
       "      <td>Yes</td>\n",
       "      <td>No</td>\n",
       "      <td>No</td>\n",
       "      <td>No</td>\n",
       "      <td>One year</td>\n",
       "      <td>No</td>\n",
       "      <td>Mailed check</td>\n",
       "      <td>56.95</td>\n",
       "      <td>1889.5</td>\n",
       "      <td>No</td>\n",
       "    </tr>\n",
       "    <tr>\n",
       "      <th>2</th>\n",
       "      <td>3668-QPYBK</td>\n",
       "      <td>Male</td>\n",
       "      <td>0</td>\n",
       "      <td>No</td>\n",
       "      <td>No</td>\n",
       "      <td>2</td>\n",
       "      <td>Yes</td>\n",
       "      <td>No</td>\n",
       "      <td>DSL</td>\n",
       "      <td>Yes</td>\n",
       "      <td>...</td>\n",
       "      <td>No</td>\n",
       "      <td>No</td>\n",
       "      <td>No</td>\n",
       "      <td>No</td>\n",
       "      <td>Month-to-month</td>\n",
       "      <td>Yes</td>\n",
       "      <td>Mailed check</td>\n",
       "      <td>53.85</td>\n",
       "      <td>108.15</td>\n",
       "      <td>Yes</td>\n",
       "    </tr>\n",
       "    <tr>\n",
       "      <th>3</th>\n",
       "      <td>7795-CFOCW</td>\n",
       "      <td>Male</td>\n",
       "      <td>0</td>\n",
       "      <td>No</td>\n",
       "      <td>No</td>\n",
       "      <td>45</td>\n",
       "      <td>No</td>\n",
       "      <td>No phone service</td>\n",
       "      <td>DSL</td>\n",
       "      <td>Yes</td>\n",
       "      <td>...</td>\n",
       "      <td>Yes</td>\n",
       "      <td>Yes</td>\n",
       "      <td>No</td>\n",
       "      <td>No</td>\n",
       "      <td>One year</td>\n",
       "      <td>No</td>\n",
       "      <td>Bank transfer (automatic)</td>\n",
       "      <td>42.30</td>\n",
       "      <td>1840.75</td>\n",
       "      <td>No</td>\n",
       "    </tr>\n",
       "    <tr>\n",
       "      <th>4</th>\n",
       "      <td>9237-HQITU</td>\n",
       "      <td>Female</td>\n",
       "      <td>0</td>\n",
       "      <td>No</td>\n",
       "      <td>No</td>\n",
       "      <td>2</td>\n",
       "      <td>Yes</td>\n",
       "      <td>No</td>\n",
       "      <td>Fiber optic</td>\n",
       "      <td>No</td>\n",
       "      <td>...</td>\n",
       "      <td>No</td>\n",
       "      <td>No</td>\n",
       "      <td>No</td>\n",
       "      <td>No</td>\n",
       "      <td>Month-to-month</td>\n",
       "      <td>Yes</td>\n",
       "      <td>Electronic check</td>\n",
       "      <td>70.70</td>\n",
       "      <td>151.65</td>\n",
       "      <td>Yes</td>\n",
       "    </tr>\n",
       "  </tbody>\n",
       "</table>\n",
       "<p>5 rows × 21 columns</p>\n",
       "</div>"
      ],
      "text/plain": [
       "   customerID  gender  SeniorCitizen Partner Dependents  tenure PhoneService  \\\n",
       "0  7590-VHVEG  Female              0     Yes         No       1           No   \n",
       "1  5575-GNVDE    Male              0      No         No      34          Yes   \n",
       "2  3668-QPYBK    Male              0      No         No       2          Yes   \n",
       "3  7795-CFOCW    Male              0      No         No      45           No   \n",
       "4  9237-HQITU  Female              0      No         No       2          Yes   \n",
       "\n",
       "      MultipleLines InternetService OnlineSecurity  ... DeviceProtection  \\\n",
       "0  No phone service             DSL             No  ...               No   \n",
       "1                No             DSL            Yes  ...              Yes   \n",
       "2                No             DSL            Yes  ...               No   \n",
       "3  No phone service             DSL            Yes  ...              Yes   \n",
       "4                No     Fiber optic             No  ...               No   \n",
       "\n",
       "  TechSupport StreamingTV StreamingMovies        Contract PaperlessBilling  \\\n",
       "0          No          No              No  Month-to-month              Yes   \n",
       "1          No          No              No        One year               No   \n",
       "2          No          No              No  Month-to-month              Yes   \n",
       "3         Yes          No              No        One year               No   \n",
       "4          No          No              No  Month-to-month              Yes   \n",
       "\n",
       "               PaymentMethod MonthlyCharges  TotalCharges Churn  \n",
       "0           Electronic check          29.85         29.85    No  \n",
       "1               Mailed check          56.95        1889.5    No  \n",
       "2               Mailed check          53.85        108.15   Yes  \n",
       "3  Bank transfer (automatic)          42.30       1840.75    No  \n",
       "4           Electronic check          70.70        151.65   Yes  \n",
       "\n",
       "[5 rows x 21 columns]"
      ]
     },
     "execution_count": 4,
     "metadata": {},
     "output_type": "execute_result"
    }
   ],
   "source": [
    "df.head()"
   ]
  },
  {
   "cell_type": "code",
   "execution_count": 5,
   "id": "6133c026",
   "metadata": {
    "execution": {
     "iopub.execute_input": "2025-06-19T11:24:00.215297Z",
     "iopub.status.busy": "2025-06-19T11:24:00.214972Z",
     "iopub.status.idle": "2025-06-19T11:24:00.243057Z",
     "shell.execute_reply": "2025-06-19T11:24:00.242001Z"
    },
    "papermill": {
     "duration": 0.036059,
     "end_time": "2025-06-19T11:24:00.244712",
     "exception": false,
     "start_time": "2025-06-19T11:24:00.208653",
     "status": "completed"
    },
    "tags": []
   },
   "outputs": [
    {
     "name": "stdout",
     "output_type": "stream",
     "text": [
      "<class 'pandas.core.frame.DataFrame'>\n",
      "RangeIndex: 7043 entries, 0 to 7042\n",
      "Data columns (total 21 columns):\n",
      " #   Column            Non-Null Count  Dtype  \n",
      "---  ------            --------------  -----  \n",
      " 0   customerID        7043 non-null   object \n",
      " 1   gender            7043 non-null   object \n",
      " 2   SeniorCitizen     7043 non-null   int64  \n",
      " 3   Partner           7043 non-null   object \n",
      " 4   Dependents        7043 non-null   object \n",
      " 5   tenure            7043 non-null   int64  \n",
      " 6   PhoneService      7043 non-null   object \n",
      " 7   MultipleLines     7043 non-null   object \n",
      " 8   InternetService   7043 non-null   object \n",
      " 9   OnlineSecurity    7043 non-null   object \n",
      " 10  OnlineBackup      7043 non-null   object \n",
      " 11  DeviceProtection  7043 non-null   object \n",
      " 12  TechSupport       7043 non-null   object \n",
      " 13  StreamingTV       7043 non-null   object \n",
      " 14  StreamingMovies   7043 non-null   object \n",
      " 15  Contract          7043 non-null   object \n",
      " 16  PaperlessBilling  7043 non-null   object \n",
      " 17  PaymentMethod     7043 non-null   object \n",
      " 18  MonthlyCharges    7043 non-null   float64\n",
      " 19  TotalCharges      7043 non-null   object \n",
      " 20  Churn             7043 non-null   object \n",
      "dtypes: float64(1), int64(2), object(18)\n",
      "memory usage: 1.1+ MB\n"
     ]
    }
   ],
   "source": [
    "df.info()"
   ]
  },
  {
   "cell_type": "code",
   "execution_count": 6,
   "id": "7c0f88cb",
   "metadata": {
    "execution": {
     "iopub.execute_input": "2025-06-19T11:24:00.257090Z",
     "iopub.status.busy": "2025-06-19T11:24:00.256746Z",
     "iopub.status.idle": "2025-06-19T11:24:00.271470Z",
     "shell.execute_reply": "2025-06-19T11:24:00.270646Z"
    },
    "papermill": {
     "duration": 0.022787,
     "end_time": "2025-06-19T11:24:00.272996",
     "exception": false,
     "start_time": "2025-06-19T11:24:00.250209",
     "status": "completed"
    },
    "tags": []
   },
   "outputs": [
    {
     "data": {
      "text/plain": [
       "customerID          0\n",
       "gender              0\n",
       "SeniorCitizen       0\n",
       "Partner             0\n",
       "Dependents          0\n",
       "tenure              0\n",
       "PhoneService        0\n",
       "MultipleLines       0\n",
       "InternetService     0\n",
       "OnlineSecurity      0\n",
       "OnlineBackup        0\n",
       "DeviceProtection    0\n",
       "TechSupport         0\n",
       "StreamingTV         0\n",
       "StreamingMovies     0\n",
       "Contract            0\n",
       "PaperlessBilling    0\n",
       "PaymentMethod       0\n",
       "MonthlyCharges      0\n",
       "TotalCharges        0\n",
       "Churn               0\n",
       "dtype: int64"
      ]
     },
     "execution_count": 6,
     "metadata": {},
     "output_type": "execute_result"
    }
   ],
   "source": [
    "df.isnull().sum()"
   ]
  },
  {
   "cell_type": "code",
   "execution_count": 7,
   "id": "f2e3ca0f",
   "metadata": {
    "execution": {
     "iopub.execute_input": "2025-06-19T11:24:00.284948Z",
     "iopub.status.busy": "2025-06-19T11:24:00.284619Z",
     "iopub.status.idle": "2025-06-19T11:24:00.307908Z",
     "shell.execute_reply": "2025-06-19T11:24:00.306949Z"
    },
    "papermill": {
     "duration": 0.031274,
     "end_time": "2025-06-19T11:24:00.309700",
     "exception": false,
     "start_time": "2025-06-19T11:24:00.278426",
     "status": "completed"
    },
    "tags": []
   },
   "outputs": [
    {
     "data": {
      "text/html": [
       "<div>\n",
       "<style scoped>\n",
       "    .dataframe tbody tr th:only-of-type {\n",
       "        vertical-align: middle;\n",
       "    }\n",
       "\n",
       "    .dataframe tbody tr th {\n",
       "        vertical-align: top;\n",
       "    }\n",
       "\n",
       "    .dataframe thead th {\n",
       "        text-align: right;\n",
       "    }\n",
       "</style>\n",
       "<table border=\"1\" class=\"dataframe\">\n",
       "  <thead>\n",
       "    <tr style=\"text-align: right;\">\n",
       "      <th></th>\n",
       "      <th>customerID</th>\n",
       "      <th>gender</th>\n",
       "      <th>SeniorCitizen</th>\n",
       "      <th>Partner</th>\n",
       "      <th>Dependents</th>\n",
       "      <th>tenure</th>\n",
       "      <th>PhoneService</th>\n",
       "      <th>MultipleLines</th>\n",
       "      <th>InternetService</th>\n",
       "      <th>OnlineSecurity</th>\n",
       "      <th>...</th>\n",
       "      <th>DeviceProtection</th>\n",
       "      <th>TechSupport</th>\n",
       "      <th>StreamingTV</th>\n",
       "      <th>StreamingMovies</th>\n",
       "      <th>Contract</th>\n",
       "      <th>PaperlessBilling</th>\n",
       "      <th>PaymentMethod</th>\n",
       "      <th>MonthlyCharges</th>\n",
       "      <th>TotalCharges</th>\n",
       "      <th>Churn</th>\n",
       "    </tr>\n",
       "  </thead>\n",
       "  <tbody>\n",
       "  </tbody>\n",
       "</table>\n",
       "<p>0 rows × 21 columns</p>\n",
       "</div>"
      ],
      "text/plain": [
       "Empty DataFrame\n",
       "Columns: [customerID, gender, SeniorCitizen, Partner, Dependents, tenure, PhoneService, MultipleLines, InternetService, OnlineSecurity, OnlineBackup, DeviceProtection, TechSupport, StreamingTV, StreamingMovies, Contract, PaperlessBilling, PaymentMethod, MonthlyCharges, TotalCharges, Churn]\n",
       "Index: []\n",
       "\n",
       "[0 rows x 21 columns]"
      ]
     },
     "execution_count": 7,
     "metadata": {},
     "output_type": "execute_result"
    }
   ],
   "source": [
    "df[df.duplicated()]"
   ]
  },
  {
   "cell_type": "markdown",
   "id": "e55fb55e",
   "metadata": {
    "papermill": {
     "duration": 0.005159,
     "end_time": "2025-06-19T11:24:00.320505",
     "exception": false,
     "start_time": "2025-06-19T11:24:00.315346",
     "status": "completed"
    },
    "tags": []
   },
   "source": [
    "**ETA**"
   ]
  },
  {
   "cell_type": "code",
   "execution_count": 8,
   "id": "b45ce75d",
   "metadata": {
    "execution": {
     "iopub.execute_input": "2025-06-19T11:24:00.332942Z",
     "iopub.status.busy": "2025-06-19T11:24:00.332544Z",
     "iopub.status.idle": "2025-06-19T11:24:00.565656Z",
     "shell.execute_reply": "2025-06-19T11:24:00.564616Z"
    },
    "papermill": {
     "duration": 0.241539,
     "end_time": "2025-06-19T11:24:00.567369",
     "exception": false,
     "start_time": "2025-06-19T11:24:00.325830",
     "status": "completed"
    },
    "tags": []
   },
   "outputs": [
    {
     "data": {
      "text/plain": [
       "<Axes: xlabel='Churn', ylabel='MonthlyCharges'>"
      ]
     },
     "execution_count": 8,
     "metadata": {},
     "output_type": "execute_result"
    },
    {
     "data": {
      "image/png": "[encoded data removed]",
      "text/plain": [
       "<Figure size 640x480 with 1 Axes>"
      ]
     },
     "metadata": {},
     "output_type": "display_data"
    }
   ],
   "source": [
    "sns.boxplot(x='Churn', y='MonthlyCharges', data=df)"
   ]
  },
  {
   "cell_type": "markdown",
   "id": "db84c8bc",
   "metadata": {
    "papermill": {
     "duration": 0.006189,
     "end_time": "2025-06-19T11:24:00.580302",
     "exception": false,
     "start_time": "2025-06-19T11:24:00.574113",
     "status": "completed"
    },
    "tags": []
   },
   "source": [
    "This mean that the customer agree  to stay when monthly charge higher"
   ]
  },
  {
   "cell_type": "code",
   "execution_count": 9,
   "id": "cc1af33e",
   "metadata": {
    "execution": {
     "iopub.execute_input": "2025-06-19T11:24:00.593204Z",
     "iopub.status.busy": "2025-06-19T11:24:00.592842Z",
     "iopub.status.idle": "2025-06-19T11:24:00.856824Z",
     "shell.execute_reply": "2025-06-19T11:24:00.855923Z"
    },
    "papermill": {
     "duration": 0.27232,
     "end_time": "2025-06-19T11:24:00.858455",
     "exception": false,
     "start_time": "2025-06-19T11:24:00.586135",
     "status": "completed"
    },
    "tags": []
   },
   "outputs": [
    {
     "data": {
      "text/plain": [
       "<Axes: xlabel='Churn'>"
      ]
     },
     "execution_count": 9,
     "metadata": {},
     "output_type": "execute_result"
    },
    {
     "data": {
      "image/png": "[encoded data removed]",
      "text/plain": [
       "<Figure size 640x480 with 1 Axes>"
      ]
     },
     "metadata": {},
     "output_type": "display_data"
    }
   ],
   "source": [
    "pd.crosstab(df['Churn'], df['Contract']).plot(kind='bar', stacked=True)"
   ]
  },
  {
   "cell_type": "markdown",
   "id": "2fb349c0",
   "metadata": {
    "papermill": {
     "duration": 0.006007,
     "end_time": "2025-06-19T11:24:00.872001",
     "exception": false,
     "start_time": "2025-06-19T11:24:00.865994",
     "status": "completed"
    },
    "tags": []
   },
   "source": [
    "Customer tending to stay with month-to-month contract"
   ]
  },
  {
   "cell_type": "code",
   "execution_count": 10,
   "id": "d2b0ccae",
   "metadata": {
    "execution": {
     "iopub.execute_input": "2025-06-19T11:24:00.886552Z",
     "iopub.status.busy": "2025-06-19T11:24:00.885686Z",
     "iopub.status.idle": "2025-06-19T11:24:01.091709Z",
     "shell.execute_reply": "2025-06-19T11:24:01.090911Z"
    },
    "papermill": {
     "duration": 0.215053,
     "end_time": "2025-06-19T11:24:01.093282",
     "exception": false,
     "start_time": "2025-06-19T11:24:00.878229",
     "status": "completed"
    },
    "tags": []
   },
   "outputs": [
    {
     "data": {
      "image/png": "[encoded data removed]",
      "text/plain": [
       "<Figure size 640x480 with 2 Axes>"
      ]
     },
     "metadata": {},
     "output_type": "display_data"
    }
   ],
   "source": [
    "sns.heatmap(df.corr(numeric_only=True), annot=True), \n",
    "cmap='coolwarm'"
   ]
  },
  {
   "cell_type": "markdown",
   "id": "9a264913",
   "metadata": {
    "papermill": {
     "duration": 0.00644,
     "end_time": "2025-06-19T11:24:01.106634",
     "exception": false,
     "start_time": "2025-06-19T11:24:01.100194",
     "status": "completed"
    },
    "tags": []
   },
   "source": [
    "**Preprocess Data**"
   ]
  },
  {
   "cell_type": "code",
   "execution_count": 11,
   "id": "fcdd3c34",
   "metadata": {
    "execution": {
     "iopub.execute_input": "2025-06-19T11:24:01.121590Z",
     "iopub.status.busy": "2025-06-19T11:24:01.120969Z",
     "iopub.status.idle": "2025-06-19T11:24:01.180943Z",
     "shell.execute_reply": "2025-06-19T11:24:01.180077Z"
    },
    "papermill": {
     "duration": 0.069245,
     "end_time": "2025-06-19T11:24:01.182548",
     "exception": false,
     "start_time": "2025-06-19T11:24:01.113303",
     "status": "completed"
    },
    "tags": []
   },
   "outputs": [
    {
     "name": "stderr",
     "output_type": "stream",
     "text": [
      "/tmp/ipykernel_13/752636711.py:16: FutureWarning: Downcasting behavior in `replace` is deprecated and will be removed in a future version. To retain the old behavior, explicitly call `result.infer_objects(copy=False)`. To opt-in to the future behavior, set `pd.set_option('future.no_silent_downcasting', True)`\n",
      "  df[binary_cols] = df[binary_cols].replace({'Yes': 1, 'No': 0, 'No internet service':0})\n"
     ]
    }
   ],
   "source": [
    "label_encoder = LabelEncoder()\n",
    "#Encode Gender using Label Encoder\n",
    "df['gender'] = label_encoder.fit_transform(df['gender'])\n",
    "#Encode Internet service using OneHot encoder\n",
    "df = pd.get_dummies(df, columns=['InternetService', 'Contract', 'PaymentMethod', 'MultipleLines'], drop_first=True)\n",
    "\n",
    "# Convert any bool columns to int (True → 1, False → 0)\n",
    "df = df.apply(lambda col: col.astype(int) if col.dtype == 'bool' else col)\n",
    "\n",
    "binary_cols = [\n",
    "    'Partner', 'Dependents', 'PhoneService', 'OnlineSecurity',\n",
    "    'DeviceProtection', 'TechSupport', 'StreamingTV',\n",
    "    'PaperlessBilling', 'Churn', 'OnlineBackup'\n",
    "]\n",
    "\n",
    "df[binary_cols] = df[binary_cols].replace({'Yes': 1, 'No': 0, 'No internet service':0})\n"
   ]
  },
  {
   "cell_type": "code",
   "execution_count": 12,
   "id": "1ecac9e3",
   "metadata": {
    "execution": {
     "iopub.execute_input": "2025-06-19T11:24:01.197429Z",
     "iopub.status.busy": "2025-06-19T11:24:01.197130Z",
     "iopub.status.idle": "2025-06-19T11:24:01.214837Z",
     "shell.execute_reply": "2025-06-19T11:24:01.213862Z"
    },
    "papermill": {
     "duration": 0.027009,
     "end_time": "2025-06-19T11:24:01.216369",
     "exception": false,
     "start_time": "2025-06-19T11:24:01.189360",
     "status": "completed"
    },
    "tags": []
   },
   "outputs": [
    {
     "data": {
      "text/html": [
       "<div>\n",
       "<style scoped>\n",
       "    .dataframe tbody tr th:only-of-type {\n",
       "        vertical-align: middle;\n",
       "    }\n",
       "\n",
       "    .dataframe tbody tr th {\n",
       "        vertical-align: top;\n",
       "    }\n",
       "\n",
       "    .dataframe thead th {\n",
       "        text-align: right;\n",
       "    }\n",
       "</style>\n",
       "<table border=\"1\" class=\"dataframe\">\n",
       "  <thead>\n",
       "    <tr style=\"text-align: right;\">\n",
       "      <th></th>\n",
       "      <th>customerID</th>\n",
       "      <th>gender</th>\n",
       "      <th>SeniorCitizen</th>\n",
       "      <th>Partner</th>\n",
       "      <th>Dependents</th>\n",
       "      <th>tenure</th>\n",
       "      <th>PhoneService</th>\n",
       "      <th>OnlineSecurity</th>\n",
       "      <th>OnlineBackup</th>\n",
       "      <th>DeviceProtection</th>\n",
       "      <th>...</th>\n",
       "      <th>Churn</th>\n",
       "      <th>InternetService_Fiber optic</th>\n",
       "      <th>InternetService_No</th>\n",
       "      <th>Contract_One year</th>\n",
       "      <th>Contract_Two year</th>\n",
       "      <th>PaymentMethod_Credit card (automatic)</th>\n",
       "      <th>PaymentMethod_Electronic check</th>\n",
       "      <th>PaymentMethod_Mailed check</th>\n",
       "      <th>MultipleLines_No phone service</th>\n",
       "      <th>MultipleLines_Yes</th>\n",
       "    </tr>\n",
       "  </thead>\n",
       "  <tbody>\n",
       "    <tr>\n",
       "      <th>0</th>\n",
       "      <td>7590-VHVEG</td>\n",
       "      <td>0</td>\n",
       "      <td>0</td>\n",
       "      <td>1</td>\n",
       "      <td>0</td>\n",
       "      <td>1</td>\n",
       "      <td>0</td>\n",
       "      <td>0</td>\n",
       "      <td>1</td>\n",
       "      <td>0</td>\n",
       "      <td>...</td>\n",
       "      <td>0</td>\n",
       "      <td>0</td>\n",
       "      <td>0</td>\n",
       "      <td>0</td>\n",
       "      <td>0</td>\n",
       "      <td>0</td>\n",
       "      <td>1</td>\n",
       "      <td>0</td>\n",
       "      <td>1</td>\n",
       "      <td>0</td>\n",
       "    </tr>\n",
       "    <tr>\n",
       "      <th>1</th>\n",
       "      <td>5575-GNVDE</td>\n",
       "      <td>1</td>\n",
       "      <td>0</td>\n",
       "      <td>0</td>\n",
       "      <td>0</td>\n",
       "      <td>34</td>\n",
       "      <td>1</td>\n",
       "      <td>1</td>\n",
       "      <td>0</td>\n",
       "      <td>1</td>\n",
       "      <td>...</td>\n",
       "      <td>0</td>\n",
       "      <td>0</td>\n",
       "      <td>0</td>\n",
       "      <td>1</td>\n",
       "      <td>0</td>\n",
       "      <td>0</td>\n",
       "      <td>0</td>\n",
       "      <td>1</td>\n",
       "      <td>0</td>\n",
       "      <td>0</td>\n",
       "    </tr>\n",
       "    <tr>\n",
       "      <th>2</th>\n",
       "      <td>3668-QPYBK</td>\n",
       "      <td>1</td>\n",
       "      <td>0</td>\n",
       "      <td>0</td>\n",
       "      <td>0</td>\n",
       "      <td>2</td>\n",
       "      <td>1</td>\n",
       "      <td>1</td>\n",
       "      <td>1</td>\n",
       "      <td>0</td>\n",
       "      <td>...</td>\n",
       "      <td>1</td>\n",
       "      <td>0</td>\n",
       "      <td>0</td>\n",
       "      <td>0</td>\n",
       "      <td>0</td>\n",
       "      <td>0</td>\n",
       "      <td>0</td>\n",
       "      <td>1</td>\n",
       "      <td>0</td>\n",
       "      <td>0</td>\n",
       "    </tr>\n",
       "    <tr>\n",
       "      <th>3</th>\n",
       "      <td>7795-CFOCW</td>\n",
       "      <td>1</td>\n",
       "      <td>0</td>\n",
       "      <td>0</td>\n",
       "      <td>0</td>\n",
       "      <td>45</td>\n",
       "      <td>0</td>\n",
       "      <td>1</td>\n",
       "      <td>0</td>\n",
       "      <td>1</td>\n",
       "      <td>...</td>\n",
       "      <td>0</td>\n",
       "      <td>0</td>\n",
       "      <td>0</td>\n",
       "      <td>1</td>\n",
       "      <td>0</td>\n",
       "      <td>0</td>\n",
       "      <td>0</td>\n",
       "      <td>0</td>\n",
       "      <td>1</td>\n",
       "      <td>0</td>\n",
       "    </tr>\n",
       "    <tr>\n",
       "      <th>4</th>\n",
       "      <td>9237-HQITU</td>\n",
       "      <td>0</td>\n",
       "      <td>0</td>\n",
       "      <td>0</td>\n",
       "      <td>0</td>\n",
       "      <td>2</td>\n",
       "      <td>1</td>\n",
       "      <td>0</td>\n",
       "      <td>0</td>\n",
       "      <td>0</td>\n",
       "      <td>...</td>\n",
       "      <td>1</td>\n",
       "      <td>1</td>\n",
       "      <td>0</td>\n",
       "      <td>0</td>\n",
       "      <td>0</td>\n",
       "      <td>0</td>\n",
       "      <td>1</td>\n",
       "      <td>0</td>\n",
       "      <td>0</td>\n",
       "      <td>0</td>\n",
       "    </tr>\n",
       "  </tbody>\n",
       "</table>\n",
       "<p>5 rows × 26 columns</p>\n",
       "</div>"
      ],
      "text/plain": [
       "   customerID  gender  SeniorCitizen  Partner  Dependents  tenure  \\\n",
       "0  7590-VHVEG       0              0        1           0       1   \n",
       "1  5575-GNVDE       1              0        0           0      34   \n",
       "2  3668-QPYBK       1              0        0           0       2   \n",
       "3  7795-CFOCW       1              0        0           0      45   \n",
       "4  9237-HQITU       0              0        0           0       2   \n",
       "\n",
       "   PhoneService  OnlineSecurity  OnlineBackup  DeviceProtection  ...  Churn  \\\n",
       "0             0               0             1                 0  ...      0   \n",
       "1             1               1             0                 1  ...      0   \n",
       "2             1               1             1                 0  ...      1   \n",
       "3             0               1             0                 1  ...      0   \n",
       "4             1               0             0                 0  ...      1   \n",
       "\n",
       "   InternetService_Fiber optic InternetService_No  Contract_One year  \\\n",
       "0                            0                  0                  0   \n",
       "1                            0                  0                  1   \n",
       "2                            0                  0                  0   \n",
       "3                            0                  0                  1   \n",
       "4                            1                  0                  0   \n",
       "\n",
       "   Contract_Two year PaymentMethod_Credit card (automatic)  \\\n",
       "0                  0                                     0   \n",
       "1                  0                                     0   \n",
       "2                  0                                     0   \n",
       "3                  0                                     0   \n",
       "4                  0                                     0   \n",
       "\n",
       "   PaymentMethod_Electronic check  PaymentMethod_Mailed check  \\\n",
       "0                               1                           0   \n",
       "1                               0                           1   \n",
       "2                               0                           1   \n",
       "3                               0                           0   \n",
       "4                               1                           0   \n",
       "\n",
       "   MultipleLines_No phone service  MultipleLines_Yes  \n",
       "0                               1                  0  \n",
       "1                               0                  0  \n",
       "2                               0                  0  \n",
       "3                               1                  0  \n",
       "4                               0                  0  \n",
       "\n",
       "[5 rows x 26 columns]"
      ]
     },
     "execution_count": 12,
     "metadata": {},
     "output_type": "execute_result"
    }
   ],
   "source": [
    "df.head()"
   ]
  },
  {
   "cell_type": "code",
   "execution_count": 13,
   "id": "2e375292",
   "metadata": {
    "execution": {
     "iopub.execute_input": "2025-06-19T11:24:01.231686Z",
     "iopub.status.busy": "2025-06-19T11:24:01.231410Z",
     "iopub.status.idle": "2025-06-19T11:24:01.236297Z",
     "shell.execute_reply": "2025-06-19T11:24:01.235162Z"
    },
    "papermill": {
     "duration": 0.014399,
     "end_time": "2025-06-19T11:24:01.237961",
     "exception": false,
     "start_time": "2025-06-19T11:24:01.223562",
     "status": "completed"
    },
    "tags": []
   },
   "outputs": [],
   "source": [
    "features = [\n",
    "    'Partner', 'Dependents', 'PhoneService', 'OnlineSecurity', 'OnlineBackup',\n",
    "    'DeviceProtection', 'TechSupport', 'StreamingTV', 'PaperlessBilling', 'gender',\n",
    "    'SeniorCitizen', 'InternetService_Fiber optic', 'InternetService_No',\n",
    "    'PaymentMethod_Credit card (automatic)', 'PaymentMethod_Electronic check',\n",
    "    'PaymentMethod_Mailed check', 'Contract_One year', 'Contract_Two year',\n",
    "    'MultipleLines_No phone service', 'MultipleLines_Yes'\n",
    "]\n"
   ]
  },
  {
   "cell_type": "code",
   "execution_count": 14,
   "id": "c405ad4b",
   "metadata": {
    "execution": {
     "iopub.execute_input": "2025-06-19T11:24:01.253535Z",
     "iopub.status.busy": "2025-06-19T11:24:01.253252Z",
     "iopub.status.idle": "2025-06-19T11:24:01.259766Z",
     "shell.execute_reply": "2025-06-19T11:24:01.258887Z"
    },
    "papermill": {
     "duration": 0.016256,
     "end_time": "2025-06-19T11:24:01.261478",
     "exception": false,
     "start_time": "2025-06-19T11:24:01.245222",
     "status": "completed"
    },
    "tags": []
   },
   "outputs": [],
   "source": [
    "X = df[features]\n",
    "y = df['Churn']"
   ]
  },
  {
   "cell_type": "code",
   "execution_count": 15,
   "id": "92eb26f4",
   "metadata": {
    "execution": {
     "iopub.execute_input": "2025-06-19T11:24:01.277326Z",
     "iopub.status.busy": "2025-06-19T11:24:01.276647Z",
     "iopub.status.idle": "2025-06-19T11:24:01.284905Z",
     "shell.execute_reply": "2025-06-19T11:24:01.283932Z"
    },
    "papermill": {
     "duration": 0.017693,
     "end_time": "2025-06-19T11:24:01.286532",
     "exception": false,
     "start_time": "2025-06-19T11:24:01.268839",
     "status": "completed"
    },
    "tags": []
   },
   "outputs": [],
   "source": [
    "x_train, x_test, y_train, y_test = train_test_split(X, y, test_size=0.2, random_state=42)"
   ]
  },
  {
   "cell_type": "code",
   "execution_count": 16,
   "id": "baeba217",
   "metadata": {
    "execution": {
     "iopub.execute_input": "2025-06-19T11:24:01.302423Z",
     "iopub.status.busy": "2025-06-19T11:24:01.301611Z",
     "iopub.status.idle": "2025-06-19T11:24:01.342193Z",
     "shell.execute_reply": "2025-06-19T11:24:01.341373Z"
    },
    "papermill": {
     "duration": 0.050095,
     "end_time": "2025-06-19T11:24:01.343774",
     "exception": false,
     "start_time": "2025-06-19T11:24:01.293679",
     "status": "completed"
    },
    "tags": []
   },
   "outputs": [],
   "source": [
    "#feature scale to ensure stability\n",
    "scaler = StandardScaler()\n",
    "x_train = scaler.fit_transform(x_train)\n",
    "x_test = scaler.transform(x_test)"
   ]
  },
  {
   "cell_type": "code",
   "execution_count": 17,
   "id": "c0736f46",
   "metadata": {
    "execution": {
     "iopub.execute_input": "2025-06-19T11:24:01.359749Z",
     "iopub.status.busy": "2025-06-19T11:24:01.359424Z",
     "iopub.status.idle": "2025-06-19T11:24:01.874408Z",
     "shell.execute_reply": "2025-06-19T11:24:01.873454Z"
    },
    "papermill": {
     "duration": 0.525051,
     "end_time": "2025-06-19T11:24:01.876189",
     "exception": false,
     "start_time": "2025-06-19T11:24:01.351138",
     "status": "completed"
    },
    "tags": []
   },
   "outputs": [],
   "source": [
    "#n_estimators is an interger decide how many decision trees\n",
    "model = RandomForestClassifier(n_estimators=100, random_state=42)\n",
    "model.fit(x_train, y_train)\n",
    "y_pred = (x_train, y_train)"
   ]
  },
  {
   "cell_type": "code",
   "execution_count": 18,
   "id": "75d6e513",
   "metadata": {
    "execution": {
     "iopub.execute_input": "2025-06-19T11:24:01.891781Z",
     "iopub.status.busy": "2025-06-19T11:24:01.891458Z",
     "iopub.status.idle": "2025-06-19T11:24:01.929016Z",
     "shell.execute_reply": "2025-06-19T11:24:01.927930Z"
    },
    "papermill": {
     "duration": 0.047215,
     "end_time": "2025-06-19T11:24:01.930748",
     "exception": false,
     "start_time": "2025-06-19T11:24:01.883533",
     "status": "completed"
    },
    "tags": []
   },
   "outputs": [],
   "source": [
    "y_pred = model.predict(x_test)"
   ]
  },
  {
   "cell_type": "code",
   "execution_count": 19,
   "id": "bdc848f4",
   "metadata": {
    "execution": {
     "iopub.execute_input": "2025-06-19T11:24:01.946485Z",
     "iopub.status.busy": "2025-06-19T11:24:01.946208Z",
     "iopub.status.idle": "2025-06-19T11:24:01.964810Z",
     "shell.execute_reply": "2025-06-19T11:24:01.963507Z"
    },
    "papermill": {
     "duration": 0.028444,
     "end_time": "2025-06-19T11:24:01.966539",
     "exception": false,
     "start_time": "2025-06-19T11:24:01.938095",
     "status": "completed"
    },
    "tags": []
   },
   "outputs": [],
   "source": [
    "con_matrix = confusion_matrix(y_test, y_pred)\n",
    "class_report = classification_report(y_test, y_pred)\n",
    "acc = accuracy_score(y_test, y_pred)"
   ]
  },
  {
   "cell_type": "code",
   "execution_count": 20,
   "id": "d8b1d0bd",
   "metadata": {
    "execution": {
     "iopub.execute_input": "2025-06-19T11:24:01.982032Z",
     "iopub.status.busy": "2025-06-19T11:24:01.981702Z",
     "iopub.status.idle": "2025-06-19T11:24:01.987246Z",
     "shell.execute_reply": "2025-06-19T11:24:01.986142Z"
    },
    "papermill": {
     "duration": 0.014771,
     "end_time": "2025-06-19T11:24:01.988589",
     "exception": false,
     "start_time": "2025-06-19T11:24:01.973818",
     "status": "completed"
    },
    "tags": []
   },
   "outputs": [
    {
     "name": "stdout",
     "output_type": "stream",
     "text": [
      "[[909 127]\n",
      " [189 184]]\n",
      "              precision    recall  f1-score   support\n",
      "\n",
      "           0       0.83      0.88      0.85      1036\n",
      "           1       0.59      0.49      0.54       373\n",
      "\n",
      "    accuracy                           0.78      1409\n",
      "   macro avg       0.71      0.69      0.69      1409\n",
      "weighted avg       0.77      0.78      0.77      1409\n",
      "\n",
      "0.7757274662881476\n"
     ]
    }
   ],
   "source": [
    "print(con_matrix)\n",
    "print(class_report)\n",
    "print(acc)"
   ]
  },
  {
   "cell_type": "code",
   "execution_count": 21,
   "id": "a8eb20e0",
   "metadata": {
    "execution": {
     "iopub.execute_input": "2025-06-19T11:24:02.004481Z",
     "iopub.status.busy": "2025-06-19T11:24:02.004174Z",
     "iopub.status.idle": "2025-06-19T11:24:02.354352Z",
     "shell.execute_reply": "2025-06-19T11:24:02.353106Z"
    },
    "papermill": {
     "duration": 0.360004,
     "end_time": "2025-06-19T11:24:02.356065",
     "exception": false,
     "start_time": "2025-06-19T11:24:01.996061",
     "status": "completed"
    },
    "tags": []
   },
   "outputs": [
    {
     "data": {
      "image/png": "[encoded data removed]",
      "text/plain": [
       "<Figure size 1000x600 with 1 Axes>"
      ]
     },
     "metadata": {},
     "output_type": "display_data"
    }
   ],
   "source": [
    "importances = model.feature_importances_\n",
    "indices = np.argsort(importances)[::-1]\n",
    "\n",
    "# Use correct feature names\n",
    "feature_names = X.columns\n",
    "names = [feature_names[i] for i in indices]\n",
    "\n",
    "plt.figure(figsize=(10, 6))\n",
    "plt.barh(range(len(indices)), importances[indices][::-1])\n",
    "plt.yticks(range(len(indices)), names[::-1])\n",
    "plt.xlabel(\"Feature Importance\")\n",
    "plt.title(\"Random Forest - Feature Importances\")\n",
    "plt.tight_layout()\n",
    "plt.show()\n"
   ]
  },
  {
   "cell_type": "code",
   "execution_count": 22,
   "id": "e3d2d94e",
   "metadata": {
    "execution": {
     "iopub.execute_input": "2025-06-19T11:24:02.375455Z",
     "iopub.status.busy": "2025-06-19T11:24:02.374907Z",
     "iopub.status.idle": "2025-06-19T11:24:02.473397Z",
     "shell.execute_reply": "2025-06-19T11:24:02.471483Z"
    },
    "papermill": {
     "duration": 0.110777,
     "end_time": "2025-06-19T11:24:02.476264",
     "exception": false,
     "start_time": "2025-06-19T11:24:02.365487",
     "status": "completed"
    },
    "tags": []
   },
   "outputs": [
    {
     "name": "stdout",
     "output_type": "stream",
     "text": [
      "[[919 117]\n",
      " [162 211]]               precision    recall  f1-score   support\n",
      "\n",
      "           0       0.85      0.89      0.87      1036\n",
      "           1       0.64      0.57      0.60       373\n",
      "\n",
      "    accuracy                           0.80      1409\n",
      "   macro avg       0.75      0.73      0.74      1409\n",
      "weighted avg       0.80      0.80      0.80      1409\n",
      " 0.8019872249822569\n"
     ]
    }
   ],
   "source": [
    "from sklearn.linear_model import LogisticRegression\n",
    "from sklearn.metrics import confusion_matrix, classification_report, accuracy_score\n",
    "\n",
    "# Build and train the Logistic Regression model\n",
    "log_reg = LogisticRegression(random_state=42)\n",
    "log_reg.fit(x_train, y_train)\n",
    "\n",
    "# Make predictions\n",
    "y_pred_log_reg = log_reg.predict(x_test)\n",
    "\n",
    "# Evaluate the model\n",
    "conf_matrix_log_reg = confusion_matrix(y_test, y_pred_log_reg)\n",
    "class_report_log_reg = classification_report(y_test, y_pred_log_reg)\n",
    "accuracy_log_reg = accuracy_score(y_test, y_pred_log_reg)\n",
    "\n",
    "print(conf_matrix_log_reg, class_report_log_reg, accuracy_log_reg)\n"
   ]
  },
  {
   "cell_type": "code",
   "execution_count": 23,
   "id": "a1b5795f",
   "metadata": {
    "execution": {
     "iopub.execute_input": "2025-06-19T11:24:02.505991Z",
     "iopub.status.busy": "2025-06-19T11:24:02.505635Z",
     "iopub.status.idle": "2025-06-19T11:24:03.811589Z",
     "shell.execute_reply": "2025-06-19T11:24:03.810608Z"
    },
    "papermill": {
     "duration": 1.322682,
     "end_time": "2025-06-19T11:24:03.813218",
     "exception": false,
     "start_time": "2025-06-19T11:24:02.490536",
     "status": "completed"
    },
    "tags": []
   },
   "outputs": [
    {
     "name": "stdout",
     "output_type": "stream",
     "text": [
      "[[919 117]\n",
      " [162 211]]               precision    recall  f1-score   support\n",
      "\n",
      "           0       0.85      0.89      0.87      1036\n",
      "           1       0.64      0.57      0.60       373\n",
      "\n",
      "    accuracy                           0.80      1409\n",
      "   macro avg       0.75      0.73      0.74      1409\n",
      "weighted avg       0.80      0.80      0.80      1409\n",
      " 0.8019872249822569\n"
     ]
    }
   ],
   "source": [
    "from sklearn.svm import SVC\n",
    "\n",
    "# Build and train the Logistic Regression model\n",
    "svm_model = SVC(random_state=42)\n",
    "svm_model.fit(x_train, y_train)\n",
    "\n",
    "# Make predictions\n",
    "y_pred_svm = svm_model.predict(x_test)\n",
    "\n",
    "# Evaluate the model\n",
    "conf_matrix_svm = confusion_matrix(y_test, y_pred_svm)\n",
    "class_report_svm = classification_report(y_test, y_pred_svm)\n",
    "accuracy_svm = accuracy_score(y_test, y_pred_svm)\n",
    "\n",
    "print(conf_matrix_log_reg, class_report_log_reg, accuracy_log_reg)\n"
   ]
  },
  {
   "cell_type": "code",
   "execution_count": 24,
   "id": "837473b2",
   "metadata": {
    "execution": {
     "iopub.execute_input": "2025-06-19T11:24:03.832051Z",
     "iopub.status.busy": "2025-06-19T11:24:03.831720Z",
     "iopub.status.idle": "2025-06-19T11:24:03.978252Z",
     "shell.execute_reply": "2025-06-19T11:24:03.977059Z"
    },
    "papermill": {
     "duration": 0.157678,
     "end_time": "2025-06-19T11:24:03.979965",
     "exception": false,
     "start_time": "2025-06-19T11:24:03.822287",
     "status": "completed"
    },
    "tags": []
   },
   "outputs": [
    {
     "name": "stdout",
     "output_type": "stream",
     "text": [
      "[[919 117]\n",
      " [162 211]]               precision    recall  f1-score   support\n",
      "\n",
      "           0       0.85      0.89      0.87      1036\n",
      "           1       0.64      0.57      0.60       373\n",
      "\n",
      "    accuracy                           0.80      1409\n",
      "   macro avg       0.75      0.73      0.74      1409\n",
      "weighted avg       0.80      0.80      0.80      1409\n",
      " 0.8019872249822569\n"
     ]
    }
   ],
   "source": [
    "from sklearn.neighbors import KNeighborsClassifier\n",
    "\n",
    "# Build and train the Logistic Regression model\n",
    "kn_model = KNeighborsClassifier(n_neighbors=5)\n",
    "kn_model.fit(x_train, y_train)\n",
    "\n",
    "# Make predictions\n",
    "y_pred_kn = kn_model.predict(x_test)\n",
    "\n",
    "# Evaluate the model\n",
    "conf_matrix_kn = confusion_matrix(y_test, y_pred_kn)\n",
    "class_report_kn = classification_report(y_test, y_pred_kn)\n",
    "accuracy_kn = accuracy_score(y_test, y_pred_kn)\n",
    "\n",
    "print(conf_matrix_log_reg, class_report_log_reg, accuracy_log_reg)\n"
   ]
  },
  {
   "cell_type": "code",
   "execution_count": null,
   "id": "988d74bd",
   "metadata": {
    "papermill": {
     "duration": 0.008991,
     "end_time": "2025-06-19T11:24:03.997847",
     "exception": false,
     "start_time": "2025-06-19T11:24:03.988856",
     "status": "completed"
    },
    "tags": []
   },
   "outputs": [],
   "source": []
  }
 ],
 "metadata": {
  "kaggle": {
   "accelerator": "none",
   "dataSources": [
    {
     "datasetId": 13996,
     "sourceId": 18858,
     "sourceType": "datasetVersion"
    }
   ],
   "dockerImageVersionId": 31040,
   "isGpuEnabled": false,
   "isInternetEnabled": false,
   "language": "python",
   "sourceType": "notebook"
  },
  "kernelspec": {
   "display_name": "Python 3",
   "language": "python",
   "name": "python3"
  },
  "language_info": {
   "codemirror_mode": {
    "name": "ipython",
    "version": 3
   },
   "file_extension": ".py",
   "mimetype": "text/x-python",
   "name": "python",
   "nbconvert_exporter": "python",
   "pygments_lexer": "ipython3",
   "version": "3.11.11"
  },
  "papermill": {
   "default_parameters": {},
   "duration": 14.181796,
   "end_time": "2025-06-19T11:24:04.727589",
   "environment_variables": {},
   "exception": null,
   "input_path": "__notebook__.ipynb",
   "output_path": "__notebook__.ipynb",
   "parameters": {},
   "start_time": "2025-06-19T11:23:50.545793",
   "version": "2.6.0"
  }
 },
 "nbformat": 4,
 "nbformat_minor": 5
}
